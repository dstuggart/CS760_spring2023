{
 "cells": [
  {
   "cell_type": "code",
   "execution_count": 1,
   "id": "907d77fd",
   "metadata": {},
   "outputs": [],
   "source": [
    "import numpy as np\n",
    "from math import log2\n",
    "import copy\n",
    "import pandas as pd"
   ]
  },
  {
   "cell_type": "code",
   "execution_count": 2,
   "id": "ac3becba",
   "metadata": {},
   "outputs": [],
   "source": [
    "df = pd.read_csv(\"D3leaves.txt\", sep=\" \", header=None)\n",
    "#df = pd.read_csv(\"Druns.txt\", sep=\" \", header=None)\n",
    "df.columns = ['x1', 'x2', 'Outcome']\n",
    "cols = df.columns   \n",
    "df[cols] = df[cols].apply(pd.to_numeric, errors='coerce')"
   ]
  },
  {
   "cell_type": "code",
   "execution_count": 3,
   "id": "07cc341f",
   "metadata": {},
   "outputs": [
    {
     "data": {
      "text/html": [
       "<div>\n",
       "<style scoped>\n",
       "    .dataframe tbody tr th:only-of-type {\n",
       "        vertical-align: middle;\n",
       "    }\n",
       "\n",
       "    .dataframe tbody tr th {\n",
       "        vertical-align: top;\n",
       "    }\n",
       "\n",
       "    .dataframe thead th {\n",
       "        text-align: right;\n",
       "    }\n",
       "</style>\n",
       "<table border=\"1\" class=\"dataframe\">\n",
       "  <thead>\n",
       "    <tr style=\"text-align: right;\">\n",
       "      <th></th>\n",
       "      <th>x1</th>\n",
       "      <th>x2</th>\n",
       "      <th>Outcome</th>\n",
       "    </tr>\n",
       "  </thead>\n",
       "  <tbody>\n",
       "    <tr>\n",
       "      <th>0</th>\n",
       "      <td>10</td>\n",
       "      <td>1</td>\n",
       "      <td>1</td>\n",
       "    </tr>\n",
       "    <tr>\n",
       "      <th>1</th>\n",
       "      <td>10</td>\n",
       "      <td>2</td>\n",
       "      <td>1</td>\n",
       "    </tr>\n",
       "    <tr>\n",
       "      <th>2</th>\n",
       "      <td>10</td>\n",
       "      <td>3</td>\n",
       "      <td>1</td>\n",
       "    </tr>\n",
       "    <tr>\n",
       "      <th>3</th>\n",
       "      <td>1</td>\n",
       "      <td>1</td>\n",
       "      <td>0</td>\n",
       "    </tr>\n",
       "    <tr>\n",
       "      <th>4</th>\n",
       "      <td>1</td>\n",
       "      <td>3</td>\n",
       "      <td>1</td>\n",
       "    </tr>\n",
       "  </tbody>\n",
       "</table>\n",
       "</div>"
      ],
      "text/plain": [
       "   x1  x2  Outcome\n",
       "0  10   1        1\n",
       "1  10   2        1\n",
       "2  10   3        1\n",
       "3   1   1        0\n",
       "4   1   3        1"
      ]
     },
     "execution_count": 3,
     "metadata": {},
     "output_type": "execute_result"
    }
   ],
   "source": [
    "df"
   ]
  },
  {
   "cell_type": "code",
   "execution_count": 4,
   "id": "a8ee976e",
   "metadata": {},
   "outputs": [],
   "source": [
    "def entropy(data):\n",
    "    count = len(data)\n",
    "    outcome = list(data[\"Outcome\"])\n",
    "    p0 = sum(b == 1 for b in outcome) / count\n",
    "    p1 = 1 - p0\n",
    "    \n",
    "    proba = [float(p0), float(p1)]\n",
    "    proba[0] /= sum(proba)\n",
    "    proba[1] /= sum(proba)\n",
    "    if proba[0] == 0 or proba[1] == 0:\n",
    "        I = 0\n",
    "    else:\n",
    "        I = -1 * np.dot(proba, np.log2(proba))\n",
    "    return I"
   ]
  },
  {
   "cell_type": "code",
   "execution_count": 5,
   "id": "e06227a1",
   "metadata": {},
   "outputs": [
    {
     "data": {
      "text/plain": [
       "0.7219280948873623"
      ]
     },
     "execution_count": 5,
     "metadata": {},
     "output_type": "execute_result"
    }
   ],
   "source": [
    "entropy(df)"
   ]
  },
  {
   "cell_type": "code",
   "execution_count": 6,
   "id": "f8fb98fd",
   "metadata": {},
   "outputs": [],
   "source": [
    "def info_gain(df, fea, threshold):  # x_fea <= threshold;  fea = 2,3,4,..., 10; threshold = 1,..., 9\n",
    "    count = len(df)\n",
    "    d1 = df[df[fea] < threshold]\n",
    "    d2 = df[df[fea] >= threshold]\n",
    "    if len(d1) == 0 or len(d2) == 0: \n",
    "        #print(fea + \">=\" + str(threshold) + \": IG: 0\" + \" Gain Ratio: inf\")\n",
    "        return 0\n",
    "    \n",
    "    df_list = [d1,d2]\n",
    "    remainder = float(0)\n",
    "    Intrinsic_info = float(0)\n",
    "    for df_sub in df_list:\n",
    "            if df_sub.shape[0] >= 1:\n",
    "                remainder_add = float(df_sub.shape[0]/count) * entropy(df_sub)\n",
    "                intrinsic_add = float(-1*df_sub.shape[0]/count)*np.log2(df_sub.shape[0]/count)\n",
    "                remainder += remainder_add\n",
    "                Intrinsic_info += intrinsic_add\n",
    "                         \n",
    "    infoGain = entropy(df)- remainder\n",
    "    gain_ratio = infoGain /Intrinsic_info\n",
    "    #print(fea + \">=\" + str(threshold) + \": IG: \" + str(infoGain)+ \" Gain Ratio: \" + str(gain_ratio))\n",
    "    return infoGain"
   ]
  },
  {
   "cell_type": "code",
   "execution_count": 7,
   "id": "fb521a39",
   "metadata": {
    "scrolled": true
   },
   "outputs": [
    {
     "data": {
      "text/plain": [
       "0"
      ]
     },
     "execution_count": 7,
     "metadata": {},
     "output_type": "execute_result"
    }
   ],
   "source": [
    "info_gain(df,'x2',8)\n",
    "info_gain(df,'x2',7)\n",
    "info_gain(df,'x2',6)\n",
    "info_gain(df,'x2',5)\n",
    "info_gain(df,'x2',4)\n",
    "info_gain(df,'x2',3)\n",
    "info_gain(df,'x2',2)\n",
    "info_gain(df,'x2',1)\n",
    "info_gain(df,'x2',0)\n",
    "info_gain(df,'x2',-1)\n",
    "info_gain(df,'x2',-2)\n",
    "info_gain(df,'x1',0.1)\n",
    "info_gain(df,'x1',0)\n"
   ]
  },
  {
   "cell_type": "code",
   "execution_count": 46,
   "id": "b01a789d",
   "metadata": {},
   "outputs": [],
   "source": [
    "def find_best_split(data,fea):\n",
    "    #find the feature that is interested\n",
    "    vals = data[fea].tolist()\n",
    "    vals = [float(x) for x in vals]\n",
    "    #find the split with max infoGain\n",
    "    max_ig = float(\"-inf\")\n",
    "    thres_val = 0\n",
    "    \n",
    "    for i in range(0, len(vals)):\n",
    "            thres = vals[i]\n",
    "            ig = info_gain(data, fea, thres)\n",
    "            if ig >= max_ig:\n",
    "                max_ig = ig\n",
    "                thres_val = thres\n",
    "\n",
    "    return thres_val"
   ]
  },
  {
   "cell_type": "code",
   "execution_count": 47,
   "id": "324ab46f",
   "metadata": {},
   "outputs": [],
   "source": [
    "#choose feature\n",
    "def choose_fea(df):\n",
    "    max_info_gain = float(\"-inf\")\n",
    "    best_fea = None\n",
    "    threshold = 0\n",
    "    feature_list = list(df.columns)[:-1]\n",
    "    \n",
    "    for feature in feature_list:\n",
    "        thres = find_best_split(df, feature)\n",
    "        ig = info_gain(df, feature, thres)\n",
    "        #print(str(feature) + \" Feature, Threshold : \" + str(thres) + \" IG: \" + str(ig) + \" IG_Ratio: \" + str(ig/entropy(df)))\n",
    "        if ig > max_info_gain:\n",
    "                max_info_gain = ig\n",
    "                best_fea = feature\n",
    "                threshold = thres\n",
    "        \n",
    "    return best_fea, threshold, max_info_gain"
   ]
  },
  {
   "cell_type": "code",
   "execution_count": 48,
   "id": "541d218e",
   "metadata": {},
   "outputs": [],
   "source": [
    "class Node():\n",
    "    def __init__(self, feature, threshold, left_nums=0, right_nums=0, leaf_nums=0, ig=0):\n",
    "        # Which column does it belong to\n",
    "        self.attr = feature\n",
    "        # What is the threshold value that led to its split\n",
    "        self.thres = threshold\n",
    "\n",
    "        self.left = None\n",
    "        self.right = None\n",
    "\n",
    "        # Demographic data at that node\n",
    "        self.left_nums = 0\n",
    "        self.right_nums = 0\n",
    "        self.leaf_nums = 0\n",
    "\n",
    "        # Is it a leaf\n",
    "        self.leaf = False\n",
    "        # Label assigned to a node if leaf\n",
    "        self.predict = None\n",
    "        self.ig = ig"
   ]
  },
  {
   "cell_type": "code",
   "execution_count": 49,
   "id": "9224bab5",
   "metadata": {},
   "outputs": [],
   "source": [
    "def create_tree(data):\n",
    "    #print(\"income data: \" , data)\n",
    "    \n",
    "    outcome = list(data[\"Outcome\"])\n",
    "    p = sum(b == 1 for b in outcome)\n",
    "    n = sum(b == 0 for b in outcome)\n",
    "    #remaining data has only one kind of label remaining \n",
    "    if p == 0 or n == 0:\n",
    "        # Create a leaf node indicating it's prediction\n",
    "        leaf = Node(None,None)\n",
    "        leaf.leaf = True\n",
    "        if p >= n:\n",
    "            leaf.predict = 1\n",
    "        else:\n",
    "            leaf.predict = 0\n",
    "        leaf.leaf_nums = p+n\n",
    "        return leaf\n",
    "    else:\n",
    "        #find the feature for splitting with threshold\n",
    "        best_fea, threshold, ig = choose_fea(data)\n",
    "        #create subtree\n",
    "        tree = Node(best_fea, threshold, ig=ig)\n",
    "        sub_1 = data[data[best_fea] >= threshold]\n",
    "        sub_2 = data[data[best_fea] < threshold]\n",
    "        \n",
    "        #print(\"left_tree: \" , sub_1)\n",
    "        #print(\"right_tree: \" , sub_2)\n",
    "        #print()\n",
    "        \n",
    "        # Recursively build left and right subtree\n",
    "        tree.left_nums = sub_1.shape[0]\n",
    "        tree.right_nums = sub_2.shape[0]\n",
    "\n",
    "        tree.left = create_tree(sub_1)\n",
    "        tree.right = create_tree(sub_2)\n",
    "        return tree\n",
    "        \n",
    "        "
   ]
  },
  {
   "cell_type": "code",
   "execution_count": 50,
   "id": "c43ac9a9",
   "metadata": {},
   "outputs": [],
   "source": [
    "def print_tree(root):\n",
    "    if (root.leaf):\n",
    "        print('return ',root.predict)\n",
    "    else:\n",
    "        print('if （',root.attr,' >= ',root.thres,')')\n",
    "        print_tree(root.left)\n",
    "        \n",
    "        print('else')\n",
    "        print_tree(root.right)"
   ]
  },
  {
   "cell_type": "code",
   "execution_count": 51,
   "id": "c3571736",
   "metadata": {},
   "outputs": [
    {
     "name": "stdout",
     "output_type": "stream",
     "text": [
      "\n",
      "if （ x2  >=  0.201829 )\n",
      "return  1\n",
      "else\n",
      "return  0\n"
     ]
    }
   ],
   "source": [
    "tree = create_tree(df)\n",
    "print()\n",
    "print_tree(tree)"
   ]
  },
  {
   "cell_type": "code",
   "execution_count": 14,
   "id": "d92913ac",
   "metadata": {
    "scrolled": true
   },
   "outputs": [
    {
     "data": {
      "text/plain": [
       "<matplotlib.collections.PathCollection at 0x2031781c670>"
      ]
     },
     "execution_count": 14,
     "metadata": {},
     "output_type": "execute_result"
    },
    {
     "data": {
      "image/png": "[encoded data removed]",
      "text/plain": [
       "<Figure size 432x288 with 1 Axes>"
      ]
     },
     "metadata": {},
     "output_type": "display_data"
    }
   ],
   "source": [
    "#2.2\n",
    "import matplotlib.pyplot as plt\n",
    "plt.style.use('seaborn-whitegrid')\n",
    "import numpy as np\n",
    "\n",
    "plt.xlabel('X1')\n",
    "plt.ylabel('X2')\n",
    "\n",
    "plt.scatter([0, 0, 1, 1], [0, 1, 0, 1], color=['black','red','red','black'])"
   ]
  },
  {
   "cell_type": "code",
   "execution_count": 40,
   "id": "6f52ffa8",
   "metadata": {},
   "outputs": [
    {
     "name": "stdout",
     "output_type": "stream",
     "text": [
      "if （ x2  >=  0.201829 )\n",
      "return  1\n",
      "else\n",
      "return  0\n"
     ]
    }
   ],
   "source": [
    "#2.5 & 2.6\n",
    "data_d1 = pd.read_csv(\"D1.txt\", sep=\" \", header=None)\n",
    "data_d1.columns = ['x1', 'x2', 'Outcome']\n",
    "cols = data_d1.columns   \n",
    "data_d1[cols] = data_d1[cols].apply(pd.to_numeric, errors='coerce')\n",
    "d1_tree = create_tree(data_d1)\n",
    "print_tree(d1_tree)"
   ]
  },
  {
   "cell_type": "code",
   "execution_count": 42,
   "id": "57e4e45f",
   "metadata": {},
   "outputs": [
    {
     "name": "stdout",
     "output_type": "stream",
     "text": [
      "if （ x1  >=  0.532965 )\n",
      "if （ x2  >=  0.383147 )\n",
      "if （ x1  >=  0.549173 )\n",
      "return  1\n",
      "else\n",
      "if （ x2  >=  0.43617 )\n",
      "return  1\n",
      "else\n",
      "return  0\n",
      "else\n",
      "if （ x1  >=  0.769265 )\n",
      "if （ x2  >=  0.170162 )\n",
      "return  1\n",
      "else\n",
      "if （ x1  >=  0.92936 )\n",
      "if （ x2  >=  0.015756 )\n",
      "return  1\n",
      "else\n",
      "return  0\n",
      "else\n",
      "if （ x2  >=  0.122877 )\n",
      "if （ x1  >=  0.852791 )\n",
      "return  1\n",
      "else\n",
      "return  0\n",
      "else\n",
      "return  0\n",
      "else\n",
      "if （ x2  >=  0.268859 )\n",
      "if （ x1  >=  0.66058 )\n",
      "if （ x2  >=  0.300402 )\n",
      "return  1\n",
      "else\n",
      "if （ x1  >=  0.751571 )\n",
      "return  1\n",
      "else\n",
      "return  0\n",
      "else\n",
      "return  0\n",
      "else\n",
      "return  0\n",
      "else\n",
      "if （ x2  >=  0.691233 )\n",
      "if （ x1  >=  0.253787 )\n",
      "return  1\n",
      "else\n",
      "if （ x2  >=  0.886446 )\n",
      "if （ x1  >=  0.084845 )\n",
      "return  1\n",
      "else\n",
      "if （ x2  >=  0.956678 )\n",
      "return  1\n",
      "else\n",
      "return  0\n",
      "else\n",
      "if （ x1  >=  0.191498 )\n",
      "if （ x2  >=  0.78283 )\n",
      "return  1\n",
      "else\n",
      "return  0\n",
      "else\n",
      "if （ x2  >=  0.862496 )\n",
      "if （ x1  >=  0.142654 )\n",
      "return  1\n",
      "else\n",
      "return  0\n",
      "else\n",
      "return  0\n",
      "else\n",
      "if （ x2  >=  0.532699 )\n",
      "if （ x1  >=  0.409632 )\n",
      "if （ x1  >=  0.421394 )\n",
      "return  1\n",
      "else\n",
      "if （ x1  >=  0.415189 )\n",
      "return  0\n",
      "else\n",
      "return  1\n",
      "else\n",
      "if （ x1  >=  0.393053 )\n",
      "if （ x2  >=  0.58971 )\n",
      "return  1\n",
      "else\n",
      "return  0\n",
      "else\n",
      "return  0\n",
      "else\n",
      "return  0\n"
     ]
    }
   ],
   "source": [
    "data_d2 = pd.read_csv(\"D2.txt\", sep=\" \", header=None)\n",
    "data_d2.columns = ['x1', 'x2', 'Outcome']\n",
    "cols = data_d2.columns   \n",
    "data_d2[cols] = data_d2[cols].apply(pd.to_numeric, errors='coerce')\n",
    "d2_tree = create_tree(data_d2)\n",
    "print_tree(d2_tree)"
   ]
  },
  {
   "cell_type": "code",
   "execution_count": 43,
   "id": "436e80c4",
   "metadata": {},
   "outputs": [
    {
     "data": {
      "text/plain": [
       "[<matplotlib.lines.Line2D at 0x2031a9e8e50>]"
      ]
     },
     "execution_count": 43,
     "metadata": {},
     "output_type": "execute_result"
    },
    {
     "data": {
      "image/png": "[encoded data removed]",
      "text/plain": [
       "<Figure size 432x288 with 1 Axes>"
      ]
     },
     "metadata": {},
     "output_type": "display_data"
    }
   ],
   "source": [
    "x_black = np.array(data_d1[data_d1['Outcome']==1]['x1'])\n",
    "y_black = np.array(data_d1[data_d1['Outcome']==1]['x2'])\n",
    "x_red = np.array(data_d1[data_d1['Outcome']==0]['x1'])\n",
    "y_red = np.array(data_d1[data_d1['Outcome']==0]['x2'])\n",
    "\n",
    "plt.xlabel('x1')\n",
    "plt.ylabel('x2')\n",
    "\n",
    "plt.plot(x_black, y_black, 'o', color='black')\n",
    "plt.plot(x_red, y_red, 'o', color='red')"
   ]
  },
  {
   "cell_type": "code",
   "execution_count": 45,
   "id": "b97529ad",
   "metadata": {},
   "outputs": [
    {
     "data": {
      "text/plain": [
       "[<matplotlib.lines.Line2D at 0x2031aa97790>]"
      ]
     },
     "execution_count": 45,
     "metadata": {},
     "output_type": "execute_result"
    },
    {
     "data": {
      "image/png": "[encoded data removed]",
      "text/plain": [
       "<Figure size 432x288 with 1 Axes>"
      ]
     },
     "metadata": {},
     "output_type": "display_data"
    }
   ],
   "source": [
    "x_black = np.array(data_d2[data_d2['Outcome']==1]['x1'])\n",
    "y_black = np.array(data_d2[data_d2['Outcome']==1]['x2'])\n",
    "x_red = np.array(data_d2[data_d2['Outcome']==0]['x1'])\n",
    "y_red = np.array(data_d2[data_d2['Outcome']==0]['x2'])\n",
    "\n",
    "plt.xlabel('x1')\n",
    "plt.ylabel('x2')\n",
    "\n",
    "plt.plot(x_black, y_black, 'o', color='black')\n",
    "plt.plot(x_red, y_red, 'o', color='red')"
   ]
  },
  {
   "cell_type": "code",
   "execution_count": 53,
   "id": "e3803acb",
   "metadata": {},
   "outputs": [],
   "source": [
    "#2.7\n",
    "df = pd.read_csv(\"Dbig.txt\", sep=\" \", header=None)\n",
    "df.columns = ['x1', 'x2', 'Outcome']\n",
    "cols = df.columns   \n",
    "df[cols] = df[cols].apply(pd.to_numeric, errors='coerce')"
   ]
  },
  {
   "cell_type": "code",
   "execution_count": 54,
   "id": "1262fc56",
   "metadata": {},
   "outputs": [
    {
     "data": {
      "text/plain": [
       "[<matplotlib.lines.Line2D at 0x2031bcc8190>]"
      ]
     },
     "execution_count": 54,
     "metadata": {},
     "output_type": "execute_result"
    },
    {
     "data": {
      "image/png": "[encoded data removed]",
      "text/plain": [
       "<Figure size 432x288 with 1 Axes>"
      ]
     },
     "metadata": {},
     "output_type": "display_data"
    }
   ],
   "source": [
    "dbig_train = df.sample(n=8192)\n",
    "df_test = df.loc[~df.index.isin(dbig_train.index)]\n",
    "d32 = dbig_train[:32]\n",
    "d128 = dbig_train[:128]\n",
    "d512 = dbig_train[:512]\n",
    "d2048 = dbig_train[:2048]\n",
    "d8192 = dbig_train[:8192]\n",
    "\n",
    "#error\n",
    "n = [9, 19, 33, 109, 233]\n",
    "err = [1-0.81, 1-0.94, 1-0.95, 1-0.98, 1-0.99]\n",
    "plt.xlabel('n')\n",
    "plt.ylabel('error_n')\n",
    "\n",
    "plt.plot(n, err, '', color='black')"
   ]
  },
  {
   "cell_type": "code",
   "execution_count": 17,
   "id": "f6d08c2b",
   "metadata": {},
   "outputs": [
    {
     "data": {
      "text/plain": [
       "[<matplotlib.lines.Line2D at 0x2031a71d430>]"
      ]
     },
     "execution_count": 17,
     "metadata": {},
     "output_type": "execute_result"
    },
    {
     "data": {
      "image/png": "[encoded data removed]",
      "text/plain": [
       "<Figure size 432x288 with 1 Axes>"
      ]
     },
     "metadata": {},
     "output_type": "display_data"
    }
   ],
   "source": [
    "x_black = np.array(d32[d32['Outcome']==1]['x1'])\n",
    "y_black = np.array(d32[d32['Outcome']==1]['x2'])\n",
    "x_red = np.array(d32[d32['Outcome']==0]['x1'])\n",
    "y_red = np.array(d32[d32['Outcome']==0]['x2'])\n",
    "\n",
    "plt.xlabel('x1')\n",
    "plt.ylabel('x2')\n",
    "\n",
    "plt.plot(x_black, y_black, 'o', color='black')\n",
    "plt.plot(x_red, y_red, 'o', color='red')\n"
   ]
  },
  {
   "cell_type": "code",
   "execution_count": 18,
   "id": "f50cce0f",
   "metadata": {},
   "outputs": [
    {
     "data": {
      "text/plain": [
       "[<matplotlib.lines.Line2D at 0x2031a7882e0>]"
      ]
     },
     "execution_count": 18,
     "metadata": {},
     "output_type": "execute_result"
    },
    {
     "data": {
      "image/png": "[encoded data removed]",
      "text/plain": [
       "<Figure size 432x288 with 1 Axes>"
      ]
     },
     "metadata": {},
     "output_type": "display_data"
    }
   ],
   "source": [
    "x_black = np.array(d128[d128['Outcome']==1]['x1'])\n",
    "y_black = np.array(d128[d128['Outcome']==1]['x2'])\n",
    "x_red = np.array(d128[d128['Outcome']==0]['x1'])\n",
    "y_red = np.array(d128[d128['Outcome']==0]['x2'])\n",
    "\n",
    "plt.xlabel('x1')\n",
    "plt.ylabel('x2')\n",
    "\n",
    "plt.plot(x_black, y_black, 'o', color='black')\n",
    "plt.plot(x_red, y_red, 'o', color='red')"
   ]
  },
  {
   "cell_type": "code",
   "execution_count": 19,
   "id": "a463a3c4",
   "metadata": {},
   "outputs": [
    {
     "data": {
      "text/plain": [
       "[<matplotlib.lines.Line2D at 0x2031a7e2be0>]"
      ]
     },
     "execution_count": 19,
     "metadata": {},
     "output_type": "execute_result"
    },
    {
     "data": {
      "image/png": "[encoded data removed]",
      "text/plain": [
       "<Figure size 432x288 with 1 Axes>"
      ]
     },
     "metadata": {},
     "output_type": "display_data"
    }
   ],
   "source": [
    "x_black = np.array(d512[d512['Outcome']==1]['x1'])\n",
    "y_black = np.array(d512[d512['Outcome']==1]['x2'])\n",
    "x_red = np.array(d512[d512['Outcome']==0]['x1'])\n",
    "y_red = np.array(d512[d512['Outcome']==0]['x2'])\n",
    "\n",
    "plt.xlabel('x1')\n",
    "plt.ylabel('x2')\n",
    "\n",
    "plt.plot(x_black, y_black, 'o', color='black')\n",
    "plt.plot(x_red, y_red, 'o', color='red')"
   ]
  },
  {
   "cell_type": "code",
   "execution_count": 20,
   "id": "b237c6fa",
   "metadata": {},
   "outputs": [
    {
     "data": {
      "text/plain": [
       "[<matplotlib.lines.Line2D at 0x2031a84a5b0>]"
      ]
     },
     "execution_count": 20,
     "metadata": {},
     "output_type": "execute_result"
    },
    {
     "data": {
      "image/png": "[encoded data removed]",
      "text/plain": [
       "<Figure size 432x288 with 1 Axes>"
      ]
     },
     "metadata": {},
     "output_type": "display_data"
    }
   ],
   "source": [
    "x_black = np.array(d2048[d2048['Outcome']==1]['x1'])\n",
    "y_black = np.array(d2048[d2048['Outcome']==1]['x2'])\n",
    "x_red = np.array(d2048[d2048['Outcome']==0]['x1'])\n",
    "y_red = np.array(d2048[d2048['Outcome']==0]['x2'])\n",
    "\n",
    "plt.xlabel('x1')\n",
    "plt.ylabel('x2')\n",
    "\n",
    "plt.plot(x_black, y_black, 'o', color='black')\n",
    "plt.plot(x_red, y_red, 'o', color='red')"
   ]
  },
  {
   "cell_type": "code",
   "execution_count": 21,
   "id": "2352eb03",
   "metadata": {
    "scrolled": true
   },
   "outputs": [
    {
     "data": {
      "text/plain": [
       "[<matplotlib.lines.Line2D at 0x2031a8a3eb0>]"
      ]
     },
     "execution_count": 21,
     "metadata": {},
     "output_type": "execute_result"
    },
    {
     "data": {
      "image/png": "[encoded data removed]",
      "text/plain": [
       "<Figure size 432x288 with 1 Axes>"
      ]
     },
     "metadata": {},
     "output_type": "display_data"
    }
   ],
   "source": [
    "x_black = np.array(d8192[d8192['Outcome']==1]['x1'])\n",
    "y_black = np.array(d8192[d8192['Outcome']==1]['x2'])\n",
    "x_red = np.array(d8192[d8192['Outcome']==0]['x1'])\n",
    "y_red = np.array(d8192[d8192['Outcome']==0]['x2'])\n",
    "\n",
    "plt.xlabel('x1')\n",
    "plt.ylabel('x2')\n",
    "\n",
    "plt.plot(x_black, y_black, 'o', color='black')\n",
    "plt.plot(x_red, y_red, 'o', color='red')"
   ]
  },
  {
   "cell_type": "code",
   "execution_count": 22,
   "id": "aefa3132",
   "metadata": {},
   "outputs": [
    {
     "name": "stdout",
     "output_type": "stream",
     "text": [
      "0.2643805309734514\n",
      "0.08683628318584069\n",
      "[9, 17, 45, 103, 239]\n",
      "[0.2643805309734514, 0.08683628318584069, 0.06415929203539827, 0.02488938053097345, 0.015486725663716783]\n"
     ]
    },
    {
     "data": {
      "text/plain": [
       "Text(0, 0.5, 'error_n')"
      ]
     },
     "execution_count": 22,
     "metadata": {},
     "output_type": "execute_result"
    },
    {
     "data": {
      "image/png": "[encoded data removed]",
      "text/plain": [
       "<Figure size 432x288 with 1 Axes>"
      ]
     },
     "metadata": {},
     "output_type": "display_data"
    }
   ],
   "source": [
    "#SK LEARN\n",
    "import pandas as pd\n",
    "from sklearn.tree import DecisionTreeClassifier\n",
    "import matplotlib.pyplot as plt\n",
    "plt.style.use('seaborn-whitegrid')\n",
    "import numpy as np\n",
    "\n",
    "\n",
    "df = pd.read_csv(\"Dbig.txt\", sep=\" \", header=None)\n",
    "df.columns = ['x1', 'x2', 'Outcome']\n",
    "cols = df.columns   \n",
    "df[cols] = df[cols].apply(pd.to_numeric, errors='coerce')\n",
    "\n",
    "\n",
    "dbig_train = df.sample(n=8192)\n",
    "df_test = df.loc[~df.index.isin(dbig_train.index)]\n",
    "d32 = dbig_train[:32]\n",
    "d128 = dbig_train[:128]\n",
    "d512 = dbig_train[:512]\n",
    "d2048 = dbig_train[:2048]\n",
    "d8192 = dbig_train[:8192]\n",
    "\n",
    "\n",
    "\n",
    "clf = DecisionTreeClassifier(criterion=\"entropy\")\n",
    "\n",
    "x_32 = d32.drop(columns='Outcome')\n",
    "y_32 = d32['Outcome']\n",
    "\n",
    "x_128 = d128.drop(columns='Outcome')\n",
    "y_128 = d128['Outcome']\n",
    "\n",
    "x_512 = d512.drop(columns='Outcome')\n",
    "y_512 = d512['Outcome']\n",
    "\n",
    "x_2048 = d2048.drop(columns='Outcome')\n",
    "y_2048 = d2048['Outcome']\n",
    "\n",
    "x_8192 = d8192.drop(columns='Outcome')\n",
    "y_8192 = d8192['Outcome']\n",
    "\n",
    "model_32 = clf.fit(x_32, y_32)\n",
    "node_cnt_32 = clf.tree_.node_count\n",
    "x_test_32 = df_test.drop(columns='Outcome')\n",
    "y_test_32 = df_test['Outcome']\n",
    "err_32 = 1- model_32.score(x_test_32, y_test_32)\n",
    "print(err_32)\n",
    "\n",
    "model_128 = clf.fit(x_128, y_128)\n",
    "node_cnt_128 = clf.tree_.node_count\n",
    "x_test_128 = df_test.drop(columns='Outcome')\n",
    "y_test_128 = df_test['Outcome']\n",
    "err_128 = 1- model_128.score(x_test_128, y_test_128)\n",
    "print(err_128)\n",
    "\n",
    "model_512 = clf.fit(x_512, y_512)\n",
    "node_cnt_512 = clf.tree_.node_count\n",
    "x_test_512 = df_test.drop(columns='Outcome')\n",
    "y_test_512 = df_test['Outcome']\n",
    "err_512 = 1- model_512.score(x_test_512, y_test_512)\n",
    "\n",
    "model_2048 = clf.fit(x_2048, y_2048)\n",
    "node_cnt_2048 = clf.tree_.node_count\n",
    "x_test_2048 = df_test.drop(columns='Outcome')\n",
    "y_test_2048 = df_test['Outcome']\n",
    "err_2048 = 1- model_2048.score(x_test_2048, y_test_2048)\n",
    "\n",
    "model_8192 = clf.fit(x_8192, y_8192)\n",
    "node_cnt_8192 = clf.tree_.node_count\n",
    "x_test_8192 = df_test.drop(columns='Outcome')\n",
    "y_test_8192 = df_test['Outcome']\n",
    "err_8192 = 1- model_8192.score(x_test_8192, y_test_8192)\n",
    "\n",
    "\n",
    "\n",
    "\n",
    "\n",
    "\n",
    "n = [node_cnt_32, node_cnt_128, node_cnt_512, node_cnt_2048, node_cnt_8192]\n",
    "print(n)\n",
    "err = [err_32, err_128, err_512, err_2048, err_8192]\n",
    "print(err)\n",
    "plt.plot(n, err, '', color='black')\n",
    "plt.xlabel('n')\n",
    "plt.ylabel('error_n')\n",
    "\n"
   ]
  },
  {
   "cell_type": "code",
   "execution_count": 23,
   "id": "e2eb5b97",
   "metadata": {},
   "outputs": [],
   "source": [
    "#Problem 4\n",
    "x = (5 - 0) * np.random.random_sample((100,))\n",
    "y = np.sin(x)\n",
    "\n",
    "from scipy.interpolate import lagrange\n",
    "poly = lagrange(x, y)"
   ]
  },
  {
   "cell_type": "code",
   "execution_count": 24,
   "id": "d9920e61",
   "metadata": {},
   "outputs": [
    {
     "name": "stdout",
     "output_type": "stream",
     "text": [
      "9.780987162946131e+69\n",
      "1.9517653707822643e+70\n"
     ]
    }
   ],
   "source": [
    "x_test = (5 - 0) * np.random.random_sample((100,))\n",
    "y_test = np.sin(x_test)\n",
    "poly = lagrange(x_test, y_test)\n",
    "\n",
    "from sklearn.metrics import mean_absolute_error\n",
    "print(mean_absolute_error(poly(x), y))\n",
    "print(mean_absolute_error(poly(x_test), y_test))"
   ]
  },
  {
   "cell_type": "code",
   "execution_count": 25,
   "id": "b5471302",
   "metadata": {},
   "outputs": [
    {
     "data": {
      "text/plain": [
       "7.042570733453915e+69"
      ]
     },
     "execution_count": 25,
     "metadata": {},
     "output_type": "execute_result"
    }
   ],
   "source": [
    "noise = np.random.normal(0, 1, 100)\n",
    "x = (5 - 0) * np.random.random_sample((100,))\n",
    "x = noise+x\n",
    "poly = lagrange(x, y)\n",
    "mean_absolute_error(poly(x), y)"
   ]
  },
  {
   "cell_type": "code",
   "execution_count": 26,
   "id": "038089d3",
   "metadata": {},
   "outputs": [
    {
     "data": {
      "text/plain": [
       "2.15927911005205e+75"
      ]
     },
     "execution_count": 26,
     "metadata": {},
     "output_type": "execute_result"
    }
   ],
   "source": [
    "x_test = (5 - 0) * np.random.random_sample((100,))\n",
    "y_test = np.sin(x_test)\n",
    "poly = lagrange(x_test, y_test)\n",
    "mean_absolute_error(poly(x_test), y_test)"
   ]
  },
  {
   "cell_type": "code",
   "execution_count": 27,
   "id": "fdcfe847",
   "metadata": {},
   "outputs": [
    {
     "data": {
      "text/plain": [
       "1.531574171745992e+46"
      ]
     },
     "execution_count": 27,
     "metadata": {},
     "output_type": "execute_result"
    }
   ],
   "source": [
    "noise = np.random.normal(0, 10, 100)\n",
    "x = (5 - 0) * np.random.random_sample((100,))\n",
    "x = noise+x\n",
    "poly = lagrange(x, y)\n",
    "mean_absolute_error(poly(x), y)"
   ]
  },
  {
   "cell_type": "code",
   "execution_count": 28,
   "id": "18df85e9",
   "metadata": {},
   "outputs": [
    {
     "data": {
      "text/plain": [
       "4.6067364333401284e+73"
      ]
     },
     "execution_count": 28,
     "metadata": {},
     "output_type": "execute_result"
    }
   ],
   "source": [
    "x_test = (5 - 0) * np.random.random_sample((100,))\n",
    "y_test = np.sin(x_test)\n",
    "poly = lagrange(x_test, y_test)\n",
    "mean_absolute_error(poly(x_test), y_test)"
   ]
  },
  {
   "cell_type": "code",
   "execution_count": 29,
   "id": "118be8e6",
   "metadata": {},
   "outputs": [
    {
     "data": {
      "text/plain": [
       "1.4225886967754515e+55"
      ]
     },
     "execution_count": 29,
     "metadata": {},
     "output_type": "execute_result"
    }
   ],
   "source": [
    "noise = np.random.normal(0, 50, 100)\n",
    "x = (5 - 0) * np.random.random_sample((100,))\n",
    "x = noise+x\n",
    "poly = lagrange(x, y)\n",
    "mean_absolute_error(poly(x), y)"
   ]
  },
  {
   "cell_type": "code",
   "execution_count": 30,
   "id": "be37a03c",
   "metadata": {},
   "outputs": [
    {
     "data": {
      "text/plain": [
       "6.331756938436494e+76"
      ]
     },
     "execution_count": 30,
     "metadata": {},
     "output_type": "execute_result"
    }
   ],
   "source": [
    "x_test = (5 - 0) * np.random.random_sample((100,))\n",
    "y_test = np.sin(x_test)\n",
    "poly = lagrange(x_test, y_test)\n",
    "mean_absolute_error(poly(x_test), y_test)"
   ]
  }
 ],
 "metadata": {
  "kernelspec": {
   "display_name": "Python 3",
   "language": "python",
   "name": "python3"
  },
  "language_info": {
   "codemirror_mode": {
    "name": "ipython",
    "version": 3
   },
   "file_extension": ".py",
   "mimetype": "text/x-python",
   "name": "python",
   "nbconvert_exporter": "python",
   "pygments_lexer": "ipython3",
   "version": "3.8.8"
  }
 },
 "nbformat": 4,
 "nbformat_minor": 5
}

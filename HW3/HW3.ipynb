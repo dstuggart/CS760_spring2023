{
 "cells": [
  {
   "cell_type": "code",
   "execution_count": 1,
   "id": "ca8ade39",
   "metadata": {},
   "outputs": [],
   "source": [
    "import math\n",
    "import pandas as pd\n",
    "from matplotlib import pyplot as plt\n",
    "import numpy as np"
   ]
  },
  {
   "cell_type": "code",
   "execution_count": 2,
   "id": "26d120b7",
   "metadata": {},
   "outputs": [],
   "source": [
    "# Calculate the Euclidean distance between two vectors\n",
    "def euclidean_distance(point1, point2):\n",
    "    point2 = np.array(point2)[0:2]\n",
    "    return np.linalg.norm(point1 - point2)\n",
    "\n",
    "# Locate the most similar neighbors\n",
    "def get_neighbors(train, test_row, num_neighbors):\n",
    "    distances = list()\n",
    "    for index, train_row in train.iterrows():\n",
    "        dist = euclidean_distance(test_row, train_row)\n",
    "        distances.append((train_row, dist))\n",
    "    distances.sort(key=lambda tup: tup[1])\n",
    "    neighbors = []\n",
    "    for i in range(num_neighbors):\n",
    "        neighbors.append(distances[i][0])\n",
    "    return neighbors\n",
    "\n",
    "# Make a prediction with neighbors\n",
    "def predict_classification(train, test_row, num_neighbors):\n",
    "    neighbors = get_neighbors(train, test_row, num_neighbors)\n",
    "    output_values = [row[-1] for row in neighbors]\n",
    "    prediction = max(set(output_values), key=output_values.count)\n",
    "    return prediction\n",
    "\n",
    "# kNN Algorithm\n",
    "def k_nearest_neighbors(train, test, num_neighbors):\n",
    "    predictions = []\n",
    "    for row in test:\n",
    "        output = predict_classification(train, row, num_neighbors)\n",
    "        predictions.append(output)\n",
    "    return(predictions)"
   ]
  },
  {
   "cell_type": "code",
   "execution_count": 12,
   "id": "1029f644",
   "metadata": {},
   "outputs": [],
   "source": [
    "#1\n",
    "df = pd.read_csv('D2z.txt', sep=\" \", header=None)\n",
    "df.columns = ['x1', 'x2', 'y']\n",
    "cols = df.columns\n",
    "df[cols] = df[cols].apply(pd.to_numeric, errors='coerce')\n",
    "x1_test = []\n",
    "x2_test = []"
   ]
  },
  {
   "cell_type": "code",
   "execution_count": 13,
   "id": "0d6a6be9",
   "metadata": {},
   "outputs": [],
   "source": [
    "for i, vi in enumerate(np.arange(-2, 2.1, 0.1)):\n",
    "        for j, vj in enumerate(np.arange(-2, 2.1, 0.1)):\n",
    "            x1_test.append(vi)\n",
    "            x2_test.append(vj)\n",
    "x1_test = np.array(x1_test)\n",
    "x2_test = np.array(x2_test)\n",
    "test = np.vstack((x1_test, x2_test)).T"
   ]
  },
  {
   "cell_type": "code",
   "execution_count": 16,
   "id": "594b5f54",
   "metadata": {},
   "outputs": [
    {
     "data": {
      "text/plain": [
       "array([1., 1., 1., ..., 0., 0., 0.])"
      ]
     },
     "execution_count": 16,
     "metadata": {},
     "output_type": "execute_result"
    }
   ],
   "source": [
    "pred = np.array(k_nearest_neighbors(df, test, 1))\n",
    "pred"
   ]
  },
  {
   "cell_type": "code",
   "execution_count": 17,
   "id": "6088c86f",
   "metadata": {},
   "outputs": [],
   "source": [
    "test = np.append(test, pred.reshape(1681,1), 1)"
   ]
  },
  {
   "cell_type": "code",
   "execution_count": 18,
   "id": "1d488b3a",
   "metadata": {},
   "outputs": [
    {
     "data": {
      "image/png": "[encoded data removed]",
      "text/plain": [
       "<Figure size 432x288 with 1 Axes>"
      ]
     },
     "metadata": {
      "needs_background": "light"
     },
     "output_type": "display_data"
    }
   ],
   "source": [
    "x1_test_pos = test[test[:, 2]==1][:, 0]\n",
    "x2_test_pos = test[test[:, 2]==1][:, 1]\n",
    "\n",
    "x1_test_neg = test[test[:, 2]==0][:, 0]\n",
    "x2_test_neg = test[test[:, 2]==0][:, 1]\n",
    "\n",
    "x1_train_pos = np.array(df[df['y'] == 1]['x1'])\n",
    "x2_train_pos = np.array(df[df['y'] == 1]['x2'])\n",
    "x1_train_neg = np.array(df[df['y'] == 0]['x1'])\n",
    "x2_train_neg = np.array(df[df['y'] == 0]['x2'])\n",
    "fig, ax = plt.subplots()\n",
    "plt.xlabel('x1')\n",
    "plt.ylabel('x2')\n",
    "plt.plot(x1_test_pos, x2_test_pos, '.', color='red', markersize=2)\n",
    "plt.plot(x1_test_neg, x2_test_neg, '.', color='blue', markersize=2)\n",
    "plt.plot(x1_train_pos, x2_train_pos, 'o', color='red', markersize=2)\n",
    "plt.plot(x1_train_neg, x2_train_neg, 'x', color='blue', markersize=2)\n",
    "plt.xlim(-2, 2)\n",
    "plt.ylim(-2, 2)\n",
    "ax.set_aspect('equal')\n",
    "ax.grid(True, which='both')\n",
    "plt.show()"
   ]
  },
  {
   "cell_type": "code",
   "execution_count": 19,
   "id": "e7f007f4",
   "metadata": {},
   "outputs": [],
   "source": [
    "#2\n",
    "from sklearn import metrics\n",
    "from sklearn.neighbors import KNeighborsClassifier\n",
    "from sklearn.linear_model import LogisticRegression\n",
    "from sklearn.metrics import precision_score\n",
    "from sklearn.metrics import recall_score\n",
    "from sklearn.metrics import accuracy_score\n",
    "from sklearn.metrics import roc_curve, auc\n",
    "\n",
    "df = pd.read_csv('emails.csv', sep=\",\")\n",
    "# Dropping the 1st column because it contains index\n",
    "df = df.drop(columns=df.columns[0])\n",
    "# Creating the individual splits\n",
    "fold1_train = df.iloc[:1000, :]\n",
    "fold1_test = df.iloc[1000:, :]\n",
    "\n",
    "fold2_train = df.iloc[1000:2000, :]\n",
    "fold2_test = pd.concat([df.iloc[:1000, :], df.iloc[2000:, :]])\n",
    "\n",
    "fold3_train = df.iloc[2000:3000, :]\n",
    "fold3_test = fold2_test = pd.concat([df.iloc[:2000, :], df.iloc[3000:, :]])\n",
    "\n",
    "fold4_train = df.iloc[3000:4000, :]\n",
    "fold4_test = fold2_test = pd.concat([df.iloc[:3000, :], df.iloc[4000:, :]])\n",
    "\n",
    "fold5_train = df.iloc[4000:5000, :]\n",
    "fold5_test = df.iloc[:3000, :]\n",
    "\n",
    "foldmain_train = df.iloc[:4000, :]\n",
    "foldmain_test = df.iloc[4000:5000, :]"
   ]
  },
  {
   "cell_type": "code",
   "execution_count": 23,
   "id": "e3cf99be",
   "metadata": {},
   "outputs": [],
   "source": [
    "def sigmoid(z):\n",
    "    return 1.0/(1 + np.exp(-z))\n",
    "\n",
    "def loss(y, y_hat):\n",
    "    loss = -np.mean(y*(np.log(y_hat)) - (1-y)*np.log(1-y_hat))\n",
    "    return loss\n",
    "\n",
    "def gradients(X, y, y_hat):\n",
    "    m = X.shape[0]\n",
    "    \n",
    "    # Gradient of loss w.r.t weights.\n",
    "    dw = (1/m)*np.dot(X.T, (y_hat - y))\n",
    "    \n",
    "    # Gradient of loss w.r.t bias.\n",
    "    db = (1/m)*np.sum((y_hat - y)) \n",
    "    \n",
    "    return dw, db\n",
    "\n",
    "def normalize(X):\n",
    "    \n",
    "    # X --> Input.\n",
    "    \n",
    "    # m-> number of training examples\n",
    "    # n-> number of features \n",
    "    m, n = X.shape\n",
    "    \n",
    "    # Normalizing all the n features of X.\n",
    "    for i in range(n):\n",
    "        X = (X - X.mean(axis=0))/X.std(axis=0)\n",
    "        \n",
    "    return X\n",
    "\n",
    "def train(X, y, bs, epochs, lr):\n",
    "    \n",
    "    # X --> Input.\n",
    "    # y --> true/target value.\n",
    "    # bs --> Batch Size.\n",
    "    # epochs --> Number of iterations.\n",
    "    # lr --> Learning rate.\n",
    "        \n",
    "    # m-> number of training examples\n",
    "    # n-> number of features \n",
    "    X = np.array(X)\n",
    "    y = np.array(y)\n",
    "    m, n = X.shape\n",
    "    \n",
    "    # Initializing weights and bias to zeros.\n",
    "    w = np.zeros((n,1))\n",
    "    b = 0\n",
    "    \n",
    "    # Reshaping y.\n",
    "    y = y.reshape(m,1)\n",
    "\n",
    "    # Normalizing the inputs.\n",
    "    #x = normalize(X)\n",
    "    \n",
    "    # Empty list to store losses.\n",
    "    losses = []\n",
    "    \n",
    "    # Training loop.\n",
    "    for epoch in range(epochs):\n",
    "        for i in range((m-1)//bs + 1):\n",
    "            \n",
    "            # Defining batches. SGD.\n",
    "            start_i = i*bs\n",
    "            end_i = start_i + bs\n",
    "            xb = X[start_i:end_i]\n",
    "            yb = y[start_i:end_i]\n",
    "            \n",
    "            # Calculating hypothesis/prediction.\n",
    "            y_hat = sigmoid(np.dot(xb, w) + b)\n",
    "            \n",
    "            # Getting the gradients of loss w.r.t parameters.\n",
    "            dw, db = gradients(xb, yb, y_hat)\n",
    "            \n",
    "            # Updating the parameters.\n",
    "            w -= lr*dw\n",
    "            b -= lr*db\n",
    "        \n",
    "        # Calculating loss and appending it in the list.\n",
    "        l = loss(y, sigmoid(np.dot(X, w) + b))\n",
    "        losses.append(l)\n",
    "        \n",
    "    # returning weights, bias and losses(List).\n",
    "    return w, b, losses\n",
    "\n",
    "def predict(X):\n",
    "    \n",
    "    # X --> Input.\n",
    "    \n",
    "    # Normalizing the inputs.\n",
    "    #x = normalize(X)\n",
    "    \n",
    "    # Calculating presictions/y_hat.\n",
    "    preds = sigmoid(np.dot(X, w) + b)\n",
    "    \n",
    "    # Empty List to store predictions.\n",
    "    pred_class = []\n",
    "    # if y_hat >= 0.5 --> round up to 1\n",
    "    # if y_hat < 0.5 --> round up to 1\n",
    "    pred_class = [1 if i > 0.5 else 0 for i in preds]\n",
    "    \n",
    "    return np.array(pred_class)\n",
    "\n",
    "def accuracy(y, y_hat):\n",
    "    accuracy = np.sum(y == y_hat) / len(y)\n",
    "    return accuracy"
   ]
  },
  {
   "cell_type": "code",
   "execution_count": 34,
   "id": "979e3d9b",
   "metadata": {},
   "outputs": [
    {
     "name": "stderr",
     "output_type": "stream",
     "text": [
      "<ipython-input-23-70831b5d95ff>:2: RuntimeWarning: overflow encountered in exp\n",
      "  return 1.0/(1 + np.exp(-z))\n",
      "<ipython-input-23-70831b5d95ff>:5: RuntimeWarning: divide by zero encountered in log\n",
      "  loss = -np.mean(y*(np.log(y_hat)) - (1-y)*np.log(1-y_hat))\n",
      "<ipython-input-23-70831b5d95ff>:5: RuntimeWarning: invalid value encountered in multiply\n",
      "  loss = -np.mean(y*(np.log(y_hat)) - (1-y)*np.log(1-y_hat))\n"
     ]
    },
    {
     "name": "stdout",
     "output_type": "stream",
     "text": [
      "Custom 1fold0.909\n",
      "1 F Precision 0.87151841868823\n",
      "1 F Recall 0.8354866494401378\n",
      "SKLearn 2fold0.94\n",
      "2 F Precision 0.8806343906510852\n",
      "2 F Recall 0.9157986111111112\n"
     ]
    },
    {
     "name": "stderr",
     "output_type": "stream",
     "text": [
      "<ipython-input-23-70831b5d95ff>:2: RuntimeWarning: overflow encountered in exp\n",
      "  return 1.0/(1 + np.exp(-z))\n",
      "<ipython-input-23-70831b5d95ff>:5: RuntimeWarning: divide by zero encountered in log\n",
      "  loss = -np.mean(y*(np.log(y_hat)) - (1-y)*np.log(1-y_hat))\n",
      "<ipython-input-23-70831b5d95ff>:5: RuntimeWarning: invalid value encountered in multiply\n",
      "  loss = -np.mean(y*(np.log(y_hat)) - (1-y)*np.log(1-y_hat))\n"
     ]
    },
    {
     "name": "stdout",
     "output_type": "stream",
     "text": [
      "0.93225\n",
      "SKLearn 3fold0.90875\n",
      "3 F Precision 0.8160190325138779\n",
      "3 F Recall 0.8855421686746988\n"
     ]
    },
    {
     "name": "stderr",
     "output_type": "stream",
     "text": [
      "<ipython-input-23-70831b5d95ff>:2: RuntimeWarning: overflow encountered in exp\n",
      "  return 1.0/(1 + np.exp(-z))\n",
      "<ipython-input-23-70831b5d95ff>:5: RuntimeWarning: divide by zero encountered in log\n",
      "  loss = -np.mean(y*(np.log(y_hat)) - (1-y)*np.log(1-y_hat))\n",
      "<ipython-input-23-70831b5d95ff>:5: RuntimeWarning: invalid value encountered in multiply\n",
      "  loss = -np.mean(y*(np.log(y_hat)) - (1-y)*np.log(1-y_hat))\n"
     ]
    },
    {
     "name": "stdout",
     "output_type": "stream",
     "text": [
      "Custom 3fold0.9175\n",
      "SKLearn 4fold0.9325\n",
      "4 F Precision 0.8477917981072555\n",
      "4 F Recall 0.9331597222222222\n"
     ]
    },
    {
     "name": "stderr",
     "output_type": "stream",
     "text": [
      "<ipython-input-23-70831b5d95ff>:2: RuntimeWarning: overflow encountered in exp\n",
      "  return 1.0/(1 + np.exp(-z))\n",
      "<ipython-input-23-70831b5d95ff>:5: RuntimeWarning: divide by zero encountered in log\n",
      "  loss = -np.mean(y*(np.log(y_hat)) - (1-y)*np.log(1-y_hat))\n",
      "<ipython-input-23-70831b5d95ff>:5: RuntimeWarning: invalid value encountered in multiply\n",
      "  loss = -np.mean(y*(np.log(y_hat)) - (1-y)*np.log(1-y_hat))\n"
     ]
    },
    {
     "name": "stdout",
     "output_type": "stream",
     "text": [
      "Custom 4fold0.92075\n",
      "SKLearn 5fold0.9353333333333333\n",
      "5 F Precision 0.8696145124716553\n",
      "5 F Recall 0.9066193853427896\n"
     ]
    },
    {
     "name": "stderr",
     "output_type": "stream",
     "text": [
      "<ipython-input-23-70831b5d95ff>:2: RuntimeWarning: overflow encountered in exp\n",
      "  return 1.0/(1 + np.exp(-z))\n",
      "<ipython-input-23-70831b5d95ff>:5: RuntimeWarning: divide by zero encountered in log\n",
      "  loss = -np.mean(y*(np.log(y_hat)) - (1-y)*np.log(1-y_hat))\n",
      "<ipython-input-23-70831b5d95ff>:5: RuntimeWarning: invalid value encountered in multiply\n",
      "  loss = -np.mean(y*(np.log(y_hat)) - (1-y)*np.log(1-y_hat))\n"
     ]
    },
    {
     "name": "stdout",
     "output_type": "stream",
     "text": [
      "Custom 5fold0.929\n"
     ]
    }
   ],
   "source": [
    "log_acc = []\n",
    "model1fold = LogisticRegression(max_iter=1000)\n",
    "w, b, l = train(fold1_train.iloc[:, :-1], fold1_train.iloc[:,-1], bs=100, epochs=1000, lr=0.01)\n",
    "predicted_c = predict(fold1_test.iloc[:, :-1])\n",
    "print(\"Custom 1fold\"+str(accuracy(np.array(fold1_test.iloc[:, -1]),predicted_c)))\n",
    "log_acc.append(accuracy(np.array(fold1_test.iloc[:, -1]),predicted_c))\n",
    "\n",
    "\n",
    "model1fold.fit(fold1_train.iloc[:, :-1], fold1_train.iloc[:,-1])\n",
    "predicted_classes = model1fold.predict(fold1_test.iloc[:, :-1])\n",
    "\n",
    "acc = accuracy_score(np.array(fold1_test.iloc[:, -1]),predicted_classes)\n",
    "print(\"1 F Precision \" + str(precision_score(np.array(fold1_test.iloc[:, -1]),predicted_classes, average='binary')))\n",
    "print(\"1 F Recall \" + str(recall_score(np.array(fold1_test.iloc[:, -1]),predicted_classes, average='binary')))\n",
    "\n",
    "parameters = model1fold.coef_\n",
    "\n",
    "model2fold = LogisticRegression(max_iter=1000)\n",
    "model2fold.fit(fold2_train.iloc[:, :-1], fold2_train.iloc[:,-1])\n",
    "predicted_classes = model2fold.predict(fold2_test.iloc[:, :-1])\n",
    "acc = accuracy_score(np.array(fold2_test.iloc[:, -1]),predicted_classes)\n",
    "print(\"SKLearn 2fold\"+str(acc))\n",
    "print(\"2 F Precision \" + str(precision_score(np.array(fold2_test.iloc[:, -1]),predicted_classes, average='binary')))\n",
    "print(\"2 F Recall \" + str(recall_score(np.array(fold2_test.iloc[:, -1]),predicted_classes, average='binary')))\n",
    "\n",
    "w, b, l = train(fold2_train.iloc[:, :-1], fold2_train.iloc[:,-1], bs=100, epochs=1000, lr=0.01)\n",
    "predicted_c = predict(fold2_test.iloc[:, :-1])\n",
    "\n",
    "print(accuracy(np.array(fold2_test.iloc[:, -1]),predicted_c))\n",
    "log_acc.append(accuracy(np.array(fold2_test.iloc[:, -1]),predicted_c))\n",
    "\n",
    "parameters = model2fold.coef_\n",
    "\n",
    "model3fold = LogisticRegression(max_iter=1000)\n",
    "model3fold.fit(fold3_train.iloc[:, :-1], fold3_train.iloc[:,-1])\n",
    "predicted_classes = model3fold.predict(fold3_test.iloc[:, :-1])\n",
    "acc = accuracy_score(np.array(fold3_test.iloc[:, -1]),predicted_classes)\n",
    "print(\"SKLearn 3fold\"+str(acc))\n",
    "print(\"3 F Precision \" + str(precision_score(np.array(fold3_test.iloc[:, -1]),predicted_classes, average='binary')))\n",
    "print(\"3 F Recall \" + str(recall_score(np.array(fold3_test.iloc[:, -1]),predicted_classes, average='binary')))\n",
    "\n",
    "w, b, l = train(fold3_train.iloc[:, :-1], fold3_train.iloc[:,-1], bs=100, epochs=1000, lr=0.01)\n",
    "predicted_c = predict(fold3_test.iloc[:, :-1])\n",
    "print(\"Custom 3fold\"+str(accuracy(np.array(fold3_test.iloc[:, -1]),predicted_c)))\n",
    "log_acc.append(accuracy(np.array(fold3_test.iloc[:, -1]),predicted_c))\n",
    "parameters = model3fold.coef_\n",
    "\n",
    "model4fold = LogisticRegression(max_iter=1000)\n",
    "model4fold.fit(fold4_train.iloc[:, :-1], fold4_train.iloc[:,-1])\n",
    "predicted_classes = model4fold.predict(fold4_test.iloc[:, :-1])\n",
    "acc = accuracy_score(np.array(fold4_test.iloc[:, -1]),predicted_classes)\n",
    "print(\"SKLearn 4fold\"+str(acc))\n",
    "print(\"4 F Precision \" + str(precision_score(np.array(fold4_test.iloc[:, -1]),predicted_classes, average='binary')))\n",
    "print(\"4 F Recall \" + str(recall_score(np.array(fold4_test.iloc[:, -1]),predicted_classes, average='binary')))\n",
    "\n",
    "w, b, l = train(fold4_train.iloc[:, :-1], fold4_train.iloc[:,-1], bs=100, epochs=1000, lr=0.01)\n",
    "predicted_c = predict(fold4_test.iloc[:, :-1])\n",
    "print(\"Custom 4fold\"+str(accuracy(np.array(fold4_test.iloc[:, -1]),predicted_c)))\n",
    "log_acc.append(accuracy(np.array(fold4_test.iloc[:, -1]),predicted_c))\n",
    "parameters = model4fold.coef_\n",
    "\n",
    "model5fold = LogisticRegression(max_iter=1000)\n",
    "model5fold.fit(fold5_train.iloc[:, :-1], fold5_train.iloc[:,-1])\n",
    "predicted_classes = model5fold.predict(fold5_test.iloc[:, :-1])\n",
    "acc = accuracy_score(np.array(fold5_test.iloc[:, -1]),predicted_classes)\n",
    "print(\"SKLearn 5fold\"+str(acc))\n",
    "print(\"5 F Precision \" + str(precision_score(np.array(fold5_test.iloc[:, -1]),predicted_classes, average='binary')))\n",
    "print(\"5 F Recall \" + str(recall_score(np.array(fold5_test.iloc[:, -1]),predicted_classes, average='binary')))\n",
    "\n",
    "w, b, l = train(fold5_train.iloc[:, :-1], fold5_train.iloc[:,-1], bs=100, epochs=1000, lr=0.01)\n",
    "predicted_c = predict(fold5_test.iloc[:, :-1])\n",
    "print(\"Custom 5fold\"+str(accuracy(np.array(fold5_test.iloc[:, -1]),predicted_c)))\n",
    "log_acc.append(accuracy(np.array(fold5_test.iloc[:, -1]),predicted_c))\n",
    "parameters = model5fold.coef_\n",
    "\n",
    "\n",
    "\n",
    "\n",
    "\n"
   ]
  },
  {
   "cell_type": "code",
   "execution_count": 26,
   "id": "02ab3062",
   "metadata": {},
   "outputs": [
    {
     "name": "stdout",
     "output_type": "stream",
     "text": [
      "Accuracy : 1 : 0.78875\n",
      "Precision : 1 : 0.6276252019386107\n",
      "Recall : 1 : 0.6692506459948321\n",
      "Accuracy : 2 : 0.8275\n",
      "Precision : 2 : 0.6661870503597123\n",
      "Recall : 2 : 0.8038194444444444\n",
      "Accuracy : 3 : 0.78675\n",
      "Precision : 3 : 0.6075156576200418\n",
      "Recall : 3 : 0.7512908777969018\n",
      "Accuracy : 4 : 0.76725\n",
      "Precision : 4 : 0.5714285714285714\n",
      "Recall : 4 : 0.7673611111111112\n",
      "Accuracy : 5 : 0.7373333333333333\n",
      "Precision : 5 : 0.5266544117647058\n",
      "Recall : 5 : 0.6773049645390071\n",
      "Accuracy : 1 : 0.80375\n",
      "Precision : 1 : 0.6652021089630932\n",
      "Recall : 1 : 0.6520241171403962\n",
      "Accuracy : 2 : 0.823\n",
      "Precision : 2 : 0.6646884272997032\n",
      "Recall : 2 : 0.7777777777777778\n",
      "Accuracy : 3 : 0.80225\n",
      "Precision : 3 : 0.6371027346637103\n",
      "Recall : 3 : 0.7418244406196214\n",
      "Accuracy : 4 : 0.781\n",
      "Precision : 4 : 0.5988538681948424\n",
      "Recall : 4 : 0.7256944444444444\n",
      "Accuracy : 5 : 0.7523333333333333\n",
      "Precision : 5 : 0.55053974484789\n",
      "Recall : 5 : 0.6631205673758865\n",
      "Accuracy : 1 : 0.811\n",
      "Precision : 1 : 0.6930409914204004\n",
      "Recall : 1 : 0.6261843238587425\n",
      "Accuracy : 2 : 0.83225\n",
      "Precision : 2 : 0.6851424172440339\n",
      "Recall : 2 : 0.7725694444444444\n",
      "Accuracy : 3 : 0.79825\n",
      "Precision : 3 : 0.6383476227591582\n",
      "Recall : 3 : 0.7048192771084337\n",
      "Accuracy : 4 : 0.792\n",
      "Precision : 4 : 0.6176470588235294\n",
      "Recall : 4 : 0.7291666666666666\n",
      "Accuracy : 5 : 0.7586666666666667\n",
      "Precision : 5 : 0.5603960396039604\n",
      "Recall : 5 : 0.6690307328605201\n",
      "Accuracy : 1 : 0.8065\n",
      "Precision : 1 : 0.6948640483383686\n",
      "Recall : 1 : 0.5943152454780362\n",
      "Accuracy : 2 : 0.83\n",
      "Precision : 2 : 0.6870047543581617\n",
      "Recall : 2 : 0.7526041666666666\n",
      "Accuracy : 3 : 0.79925\n",
      "Precision : 3 : 0.6497080900750626\n",
      "Recall : 3 : 0.6703958691910499\n",
      "Accuracy : 4 : 0.791\n",
      "Precision : 4 : 0.6177347242921013\n",
      "Recall : 4 : 0.7196180555555556\n",
      "Accuracy : 5 : 0.7563333333333333\n",
      "Precision : 5 : 0.5595854922279793\n",
      "Recall : 5 : 0.6382978723404256\n",
      "Accuracy : 1 : 0.8045\n",
      "Precision : 1 : 0.7457846952010376\n",
      "Recall : 1 : 0.49526270456503013\n",
      "Accuracy : 2 : 0.83375\n",
      "Precision : 2 : 0.7375609756097561\n",
      "Recall : 2 : 0.65625\n",
      "Accuracy : 3 : 0.8005\n",
      "Precision : 3 : 0.6944444444444444\n",
      "Recall : 3 : 0.5593803786574871\n",
      "Accuracy : 4 : 0.7955\n",
      "Precision : 4 : 0.6549165120593692\n",
      "Recall : 4 : 0.6128472222222222\n",
      "Accuracy : 5 : 0.7756666666666666\n",
      "Precision : 5 : 0.6093552465233881\n",
      "Recall : 5 : 0.5697399527186762\n"
     ]
    }
   ],
   "source": [
    "avg_accuracy = []\n",
    "for i in [1,3,5,7,10]:\n",
    "    knn_acc = []\n",
    "    var = 0\n",
    "    neigh = KNeighborsClassifier(n_neighbors=i)\n",
    "    neigh.fit(fold1_train.iloc[:, :-1], fold1_train.iloc[:, -1])\n",
    "    y_pred = neigh.predict(fold1_test.iloc[:, :-1])\n",
    "    var = var + accuracy_score(fold1_test.iloc[:, -1], y_pred)\n",
    "    print(\"Accuracy : 1 : \" + str(accuracy_score(fold1_test.iloc[:, -1], y_pred)))\n",
    "    print(\"Precision : 1 : \" + str(precision_score(fold1_test.iloc[:, -1], y_pred, average='binary')))\n",
    "    print(\"Recall : 1 : \" + str(recall_score(fold1_test.iloc[:, -1], y_pred, average='binary')))\n",
    "    knn_acc.append(accuracy_score(fold1_test.iloc[:, -1], y_pred))\n",
    "    \n",
    "    neigh = KNeighborsClassifier(n_neighbors=i)\n",
    "    neigh.fit(fold2_train.iloc[:, :-1], fold2_train.iloc[:, -1])\n",
    "    y_pred = neigh.predict(fold2_test.iloc[:, :-1])\n",
    "    var = var + accuracy_score(fold2_test.iloc[:, -1], y_pred)\n",
    "    print(\"Accuracy : 2 : \" + str(accuracy_score(fold2_test.iloc[:, -1], y_pred)))\n",
    "    print(\"Precision : 2 : \" + str(precision_score(fold2_test.iloc[:, -1], y_pred, average='binary')))\n",
    "    print(\"Recall : 2 : \" + str(recall_score(fold2_test.iloc[:, -1], y_pred, average='binary')))\n",
    "    knn_acc.append(accuracy_score(fold2_test.iloc[:, -1], y_pred))\n",
    "\n",
    "    neigh = KNeighborsClassifier(n_neighbors=i)\n",
    "    neigh.fit(fold3_train.iloc[:, :-1], fold3_train.iloc[:, -1])\n",
    "    y_pred = neigh.predict(fold3_test.iloc[:, :-1])\n",
    "    var = var + accuracy_score(fold3_test.iloc[:, -1], y_pred)\n",
    "    print(\"Accuracy : 3 : \" + str(accuracy_score(fold3_test.iloc[:, -1], y_pred)))\n",
    "    print(\"Precision : 3 : \" + str(precision_score(fold3_test.iloc[:, -1], y_pred, average='binary')))\n",
    "    print(\"Recall : 3 : \" + str(recall_score(fold3_test.iloc[:, -1], y_pred, average='binary')))\n",
    "    knn_acc.append(accuracy_score(fold3_test.iloc[:, -1], y_pred))\n",
    "\n",
    "    neigh = KNeighborsClassifier(n_neighbors=i)\n",
    "    neigh.fit(fold4_train.iloc[:, :-1], fold4_train.iloc[:, -1])\n",
    "    y_pred = neigh.predict(fold4_test.iloc[:, :-1])\n",
    "    var = var + accuracy_score(fold4_test.iloc[:, -1], y_pred)\n",
    "    print(\"Accuracy : 4 : \" + str(accuracy_score(fold4_test.iloc[:, -1], y_pred)))\n",
    "    print(\"Precision : 4 : \" + str(precision_score(fold4_test.iloc[:, -1], y_pred, average='binary')))\n",
    "    print(\"Recall : 4 : \" + str(recall_score(fold4_test.iloc[:, -1], y_pred, average='binary')))\n",
    "    knn_acc.append(accuracy_score(fold4_test.iloc[:, -1], y_pred))\n",
    "\n",
    "    neigh = KNeighborsClassifier(n_neighbors=i)\n",
    "    neigh.fit(fold5_train.iloc[:, :-1], fold5_train.iloc[:, -1])\n",
    "    y_pred = neigh.predict(fold5_test.iloc[:, :-1])\n",
    "    var = var + accuracy_score(fold5_test.iloc[:, -1], y_pred)\n",
    "    print(\"Accuracy : 5 : \" + str(accuracy_score(fold5_test.iloc[:, -1], y_pred)))\n",
    "    print(\"Precision : 5 : \" + str(precision_score(fold5_test.iloc[:, -1], y_pred, average='binary')))\n",
    "    print(\"Recall : 5 : \" + str(recall_score(fold5_test.iloc[:, -1], y_pred, average='binary')))\n",
    "    knn_acc.append(accuracy_score(fold5_test.iloc[:, -1], y_pred))\n",
    "    \n",
    "    avg_accuracy.append(sum(knn_acc)/5)"
   ]
  },
  {
   "cell_type": "code",
   "execution_count": 30,
   "id": "2d531bf9",
   "metadata": {},
   "outputs": [
    {
     "data": {
      "text/plain": [
       "Text(0, 0.5, 'Average Accuracy')"
      ]
     },
     "execution_count": 30,
     "metadata": {},
     "output_type": "execute_result"
    },
    {
     "data": {
      "image/png": "[encoded data removed]",
      "text/plain": [
       "<Figure size 432x288 with 1 Axes>"
      ]
     },
     "metadata": {
      "needs_background": "light"
     },
     "output_type": "display_data"
    }
   ],
   "source": [
    "#knn plot\n",
    "plt.plot([1,3,5,7,10],avg_accuracy)\n",
    "plt.xlabel(\"Number of Neighbors\")\n",
    "plt.ylabel(\"Average Accuracy\")"
   ]
  },
  {
   "cell_type": "code",
   "execution_count": 38,
   "id": "215bbe84",
   "metadata": {},
   "outputs": [
    {
     "name": "stdout",
     "output_type": "stream",
     "text": [
      "0.7942033333333334\n",
      "0.9217000000000001\n"
     ]
    }
   ],
   "source": [
    "KNN_AUC = sum(avg_accuracy)/len(avg_accuracy)\n",
    "LOG_AUC = sum(log_acc)/len(log_acc)\n",
    "print(KNN_AUC)\n",
    "print(LOG_AUC)"
   ]
  },
  {
   "cell_type": "code",
   "execution_count": 39,
   "id": "26a79018",
   "metadata": {},
   "outputs": [
    {
     "data": {
      "image/png": "[encoded data removed]",
      "text/plain": [
       "<Figure size 432x288 with 1 Axes>"
      ]
     },
     "metadata": {
      "needs_background": "light"
     },
     "output_type": "display_data"
    }
   ],
   "source": [
    "neigh = KNeighborsClassifier(n_neighbors=5)\n",
    "neigh.fit(foldmain_train.iloc[:, :-1], foldmain_train.iloc[:, -1])\n",
    "y_pred = neigh.predict(foldmain_test.iloc[:, :-1])\n",
    "fpr, tpr, threshold = roc_curve(foldmain_test.iloc[:, -1], y_pred)\n",
    "\n",
    "lr = LogisticRegression(max_iter=1000)\n",
    "lr.fit(foldmain_train.iloc[:, :-1], foldmain_train.iloc[:,-1])\n",
    "predicted_classes = lr.predict(foldmain_test.iloc[:, :-1])\n",
    "\n",
    "plt.title('ROC Curve for KNN and Logistic Regression')\n",
    "plt.plot(fpr, tpr, 'b', color=\"violet\", label=\"kNN : AUC = 0.79\")\n",
    "fpr, tpr, threshold = roc_curve(foldmain_test.iloc[:, -1], predicted_classes)\n",
    "\n",
    "plt.plot(fpr, tpr, 'b', color=\"purple\", label=\"Logistic Regression : AUC = 0.92\")\n",
    "plt.legend(loc = 'lower right')\n",
    "plt.plot([0, 1], [0, 1],'r--')\n",
    "plt.xlim([0, 1])\n",
    "plt.ylim([0, 1])\n",
    "plt.ylabel('True Positive Rate')\n",
    "plt.xlabel('False Positive Rate')\n",
    "plt.title('ROC Curve of kNN and Logistic Regression')\n",
    "plt.show()"
   ]
  },
  {
   "cell_type": "code",
   "execution_count": null,
   "id": "8784668a",
   "metadata": {},
   "outputs": [],
   "source": []
  }
 ],
 "metadata": {
  "kernelspec": {
   "display_name": "Python 3",
   "language": "python",
   "name": "python3"
  },
  "language_info": {
   "codemirror_mode": {
    "name": "ipython",
    "version": 3
   },
   "file_extension": ".py",
   "mimetype": "text/x-python",
   "name": "python",
   "nbconvert_exporter": "python",
   "pygments_lexer": "ipython3",
   "version": "3.8.8"
  }
 },
 "nbformat": 4,
 "nbformat_minor": 5
}
